{
 "cells": [
  {
   "cell_type": "code",
   "execution_count": 1,
   "metadata": {},
   "outputs": [],
   "source": [
    "import os\n",
    "import torch\n",
    "import torch.nn as nn\n",
    "import torch.nn.functional as F\n",
    "import pickle"
   ]
  },
  {
   "cell_type": "code",
   "execution_count": 2,
   "metadata": {},
   "outputs": [
    {
     "name": "stdout",
     "output_type": "stream",
     "text": [
      "cuda\n"
     ]
    }
   ],
   "source": [
    "device = 'cuda' if torch.cuda.is_available() else 'cpu'\n",
    "print(device)\n",
    "batch_size = 64\n",
    "block_size = 128\n",
    "max_iter = 1000\n",
    "# eval_interval = 2500\n",
    "learning_rate = 1e-4\n",
    "eval_iters = 100\n",
    "embed_size = 384\n",
    "n_layer = 4\n",
    "n_head = 4\n",
    "dropout = 0.2"
   ]
  },
  {
   "cell_type": "code",
   "execution_count": 3,
   "metadata": {},
   "outputs": [
    {
     "name": "stdout",
     "output_type": "stream",
     "text": [
      "['\\n', ' ', '!', '&', '(', ')', ',', '-', '.', '0', '1', '9', ':', ';', '?', 'A', 'B', 'C', 'D', 'E', 'F', 'G', 'H', 'I', 'J', 'K', 'L', 'M', 'N', 'O', 'P', 'Q', 'R', 'S', 'T', 'U', 'V', 'W', 'X', 'Y', 'Z', 'a', 'b', 'c', 'd', 'e', 'f', 'g', 'h', 'i', 'j', 'k', 'l', 'm', 'n', 'o', 'p', 'q', 'r', 's', 't', 'u', 'v', 'w', 'x', 'y', 'z', '—', '‘', '’', '“', '”', '\\ufeff'] \n",
      " 73\n"
     ]
    }
   ],
   "source": [
    "DIR = os.getcwd()\n",
    "filename = 'wizardofoz.txt'\n",
    "database_path = os.path.join(DIR,'data',filename)\n",
    "with open(database_path,'r',encoding='utf-8') as file:\n",
    "    text = file.read()\n",
    "chars = sorted(set(text))\n",
    "vocab_size = len(chars)\n",
    "print(chars,'\\n',vocab_size)"
   ]
  },
  {
   "cell_type": "code",
   "execution_count": 4,
   "metadata": {},
   "outputs": [],
   "source": [
    "string_to_int = { ch:i for i,ch in enumerate(chars) }\n",
    "int_to_string = { i:ch for i,ch in enumerate(chars) }\n",
    "encode = lambda x: [ string_to_int[c] for c in x ]\n",
    "decode = lambda x: ''.join( int_to_string[c] for c in x )"
   ]
  },
  {
   "cell_type": "code",
   "execution_count": 5,
   "metadata": {},
   "outputs": [
    {
     "name": "stdout",
     "output_type": "stream",
     "text": [
      "torch.Size([207799])\n"
     ]
    }
   ],
   "source": [
    "data = torch.tensor(encode(text), dtype=torch.int64)\n",
    "print(data.shape)"
   ]
  },
  {
   "cell_type": "code",
   "execution_count": 6,
   "metadata": {},
   "outputs": [
    {
     "name": "stdout",
     "output_type": "stream",
     "text": [
      "input: \n",
      "tensor([[ 1, 59, 48,  ..., 54,  8,  0],\n",
      "        [58, 42, 52,  ..., 65,  1, 48],\n",
      "        [ 1, 37, 49,  ..., 55, 54,  8],\n",
      "        ...,\n",
      "        [49, 44,  1,  ..., 61, 54, 44],\n",
      "        [ 1, 55, 46,  ..., 48, 45, 53],\n",
      "        [63, 41, 59,  ..., 44, 45, 44]], device='cuda:0')\n",
      "target: \n",
      "tensor([[59, 48, 55,  ...,  8,  0,  0],\n",
      "        [42, 52, 45,  ...,  1, 48, 41],\n",
      "        [37, 49, 43,  ..., 54,  8,  0],\n",
      "        ...,\n",
      "        [44,  1, 60,  ..., 54, 44,  1],\n",
      "        [55, 46,  1,  ..., 45, 53,  8],\n",
      "        [41, 59,  1,  ..., 45, 44,  1]], device='cuda:0')\n"
     ]
    }
   ],
   "source": [
    "train_size = int(0.8 * data.size(dim=0))\n",
    "train_data = data[:train_size]\n",
    "val_data = data[train_size:]\n",
    "\n",
    "def get_batch(split):\n",
    "    data = train_data if split == 'train' else val_data\n",
    "    indxs = torch.randint(data.size(dim=0) - block_size, (batch_size,))\n",
    "    x = torch.stack([ data[indx:indx+block_size] for indx in indxs ])\n",
    "    y = torch.stack([ data[indx+1:indx+block_size+1] for indx in indxs ])\n",
    "    x, y = x.to(device), y.to(device)\n",
    "    return x, y\n",
    "\n",
    "x, y = get_batch('train')\n",
    "print(\"input: \")\n",
    "print(x)\n",
    "print(\"target: \")\n",
    "print(y)"
   ]
  },
  {
   "cell_type": "code",
   "execution_count": 7,
   "metadata": {},
   "outputs": [],
   "source": [
    "# class BigramLanguageModel(nn.Module):\n",
    "#     def __init__(self, vocab_size):\n",
    "#         super().__init__()\n",
    "#         self.token_embedding_table = nn.Embedding(vocab_size,vocab_size)\n",
    "#     def forward(self, index, targets=None):\n",
    "#         logits = self.token_embedding_table(index)\n",
    "#         if targets is None:\n",
    "#             loss = None\n",
    "#         else:\n",
    "#             B, T, C = logits.shape\n",
    "#             logits = logits.view(B*T, C)\n",
    "#             targets = targets.view(B*T)\n",
    "#             loss = F.cross_entropy(logits, targets)\n",
    "#         return logits, loss\n",
    "#     def generate(self, index, max_new_tokens):\n",
    "#         for _ in range(max_new_tokens):\n",
    "#             logits, loss = self.forward(index)\n",
    "#             logits = logits[:,-1,:]\n",
    "#             probs = F.softmax(logits, dim=-1)\n",
    "#             index_next = torch.multinomial(probs, num_samples=1)\n",
    "#             index = torch.cat((index, index_next), dim=1)\n",
    "#         return index\n"
   ]
  },
  {
   "cell_type": "code",
   "execution_count": 8,
   "metadata": {},
   "outputs": [],
   "source": [
    "@torch.no_grad()\n",
    "def estimate_loss():\n",
    "    avg_loss = dict()\n",
    "    model.eval()\n",
    "    for split in ['train','val']:\n",
    "        losses = torch.zeros((eval_iters,), dtype=torch.float16)\n",
    "        for itr in range(eval_iters):\n",
    "            X, Y = get_batch(split)\n",
    "            logits, loss = model(X, Y)\n",
    "            losses[itr] = loss.item()\n",
    "        avg_loss[split] = losses.mean()\n",
    "    model.train()\n",
    "    return avg_loss"
   ]
  },
  {
   "cell_type": "code",
   "execution_count": 9,
   "metadata": {},
   "outputs": [],
   "source": [
    "# model = BigramLanguageModel(vocab_size)\n",
    "# m = model.to(device)\n",
    "\n",
    "# context = torch.zeros((1,1), dtype=torch.int64, device=device)\n",
    "# generated_chars = decode(m.generate(context, max_new_tokens=500)[0].tolist())\n",
    "# print(generated_chars)"
   ]
  },
  {
   "cell_type": "code",
   "execution_count": 10,
   "metadata": {
    "scrolled": true
   },
   "outputs": [],
   "source": [
    "# optimizer = torch.optim.AdamW(model.parameters(), lr=learning_rate)\n",
    "\n",
    "# for i in range(max_iter):\n",
    "\n",
    "#     xb, yb = get_batch('train')\n",
    "#     logits, loss = model.forward(xb, yb)\n",
    "#     optimizer.zero_grad(set_to_none=True)\n",
    "#     loss.backward()\n",
    "#     optimizer.step()\n",
    "#     if (i+1) % eval_iters == 0:\n",
    "#         losses = estimate_loss()\n",
    "#         print(f\"Step [{(i+1)//eval_iters}/{max_iter//eval_iters}], train_loss: {losses['train']:.3f}, val_loss: {losses['val']:.3f}\")"
   ]
  },
  {
   "cell_type": "code",
   "execution_count": 11,
   "metadata": {},
   "outputs": [],
   "source": [
    "# context = torch.zeros((1,1), dtype=torch.int64, device=device)\n",
    "# generated_chars = decode(m.generate(context, max_new_tokens=500)[0].tolist())\n",
    "# print(generated_chars)"
   ]
  },
  {
   "cell_type": "code",
   "execution_count": 12,
   "metadata": {},
   "outputs": [],
   "source": [
    "class Head(nn.Module):\n",
    "    def __init__(self, head_size):\n",
    "        super().__init__()\n",
    "        self.key = nn.Linear(embed_size, head_size)\n",
    "        self.query = nn.Linear(embed_size, head_size)\n",
    "        self.value = nn.Linear(embed_size, head_size)\n",
    "        self.register_buffer('tril', torch.tril(torch.ones(block_size,block_size)))\n",
    "        self.drop = nn.Dropout(dropout)\n",
    "    def forward(self, x):\n",
    "        B, T, C = x.shape\n",
    "        k = self.key(x)\n",
    "        q = self.query(x)\n",
    "        v = self.value(x)\n",
    "        out = k @ torch.transpose(q,-2,-1) * k.shape[-1]**0.5\n",
    "        out = out.masked_fill(self.tril[:T,:T] == 0, float('-inf'))\n",
    "        out = F.softmax(out, dim=-1)\n",
    "        out = self.drop(out)\n",
    "        out = out @ v\n",
    "        return out\n",
    "        "
   ]
  },
  {
   "cell_type": "code",
   "execution_count": 13,
   "metadata": {},
   "outputs": [],
   "source": [
    "class Feedforward(nn.Module):\n",
    "    def __init__(self):\n",
    "        super().__init__()\n",
    "        self.net = nn.Sequential(\n",
    "            nn.Linear(embed_size, 4 * embed_size),\n",
    "            nn.ReLU(),\n",
    "            nn.Linear(4 * embed_size, embed_size),\n",
    "            nn.Dropout(dropout)\n",
    "        )\n",
    "    def forward(self, x):\n",
    "        return self.net(x)"
   ]
  },
  {
   "cell_type": "code",
   "execution_count": 14,
   "metadata": {},
   "outputs": [],
   "source": [
    "class MultiHeadAttention(nn.Module):\n",
    "    def __init__(self, n_head, head_size):\n",
    "        super().__init__()\n",
    "        self.heads = nn.ModuleList([Head(head_size) for _ in range(n_head)])\n",
    "        self.proj = nn.Linear(n_head * head_size, embed_size)\n",
    "        self.drop = nn.Dropout(dropout)\n",
    "    def forward(self, x):\n",
    "        x = torch.cat([h(x) for h in self.heads], dim=-1)\n",
    "        x = self.proj(x)\n",
    "        x = self.drop(x)\n",
    "        return x"
   ]
  },
  {
   "cell_type": "code",
   "execution_count": 15,
   "metadata": {},
   "outputs": [],
   "source": [
    "class Block(nn.Module):\n",
    "    def __init__(self, n_head):\n",
    "        super().__init__()\n",
    "        head_size = embed_size // n_head\n",
    "        self.sa = MultiHeadAttention(n_head, head_size)\n",
    "        self.ffnw = Feedforward()\n",
    "        self.ln_1 = nn.LayerNorm(embed_size)\n",
    "        self.ln_2 = nn.LayerNorm(embed_size)\n",
    "    def forward(self, x):\n",
    "        x_ = self.sa(x)\n",
    "        x = self.ln_1(x_+x)\n",
    "        x_ = self.ffnw(x)\n",
    "        x = self.ln_2(x_+x)\n",
    "        return x"
   ]
  },
  {
   "cell_type": "code",
   "execution_count": 16,
   "metadata": {
    "scrolled": true
   },
   "outputs": [],
   "source": [
    "class GPTLanguagemodel(nn.Module):\n",
    "    def __init__(self, vocab_size):\n",
    "        super().__init__()\n",
    "        self.token_embedding_table = nn.Embedding(vocab_size, embed_size)\n",
    "        self.position_embedding_table = nn.Embedding(block_size, embed_size)\n",
    "        self.blocks = nn.Sequential(*[Block(n_head) for _ in range(n_layer)])\n",
    "        self.ln_f = nn.LayerNorm(embed_size)\n",
    "        self.lm_head = nn.Linear(embed_size, vocab_size)\n",
    "        self.apply(self._init_weights)\n",
    "    def _init_weights(self, module):\n",
    "        if isinstance(module, nn.Linear):\n",
    "            nn.init.normal_(module.weight, mean=0.0, std=0.02)\n",
    "            if module.bias is None:\n",
    "                nn.init.zeros_(module.bias)\n",
    "        if isinstance(module, nn.Embedding):\n",
    "            nn.init.normal_(module.weight, mean=0.0, std=0.02)  \n",
    "    def forward(self, index, targets=None):\n",
    "        tok_emb = self.token_embedding_table(index)\n",
    "        B, T, C = tok_emb.shape\n",
    "        pos_emb = self.position_embedding_table(torch.arange(T, device=device))\n",
    "        x = tok_emb + pos_emb\n",
    "        x = self.blocks(x)\n",
    "        x = self.ln_f(x)\n",
    "        logits = self.lm_head(x)\n",
    "        if targets is None:\n",
    "            loss = None\n",
    "        else:\n",
    "            B, T, C = logits.shape\n",
    "            logits = logits.view(B*T, C)\n",
    "            targets = targets.view(B*T)\n",
    "            loss = F.cross_entropy(logits, targets)\n",
    "        return logits, loss\n",
    "    def generate(self, index, max_new_token):\n",
    "        for i in range(max_new_token):\n",
    "            index_cond = index[:, -block_size:]\n",
    "            logits, loss = self.forward(index_cond)\n",
    "            logits = logits[:,-1,:]\n",
    "            probs = F.softmax(logits, dim=-1)\n",
    "            new_index = torch.multinomial(probs, num_samples=1)\n",
    "            index = torch.cat((index, new_index), dim=1)\n",
    "        return index\n",
    "\n",
    "\n",
    "model = GPTLanguagemodel(vocab_size)\n",
    "m = model.to(device)"
   ]
  },
  {
   "cell_type": "code",
   "execution_count": 17,
   "metadata": {},
   "outputs": [
    {
     "name": "stdout",
     "output_type": "stream",
     "text": [
      "Step [1/10], train_loss: 2.432, val_loss: 2.436\n",
      "Step [2/10], train_loss: 2.361, val_loss: 2.365\n",
      "Step [3/10], train_loss: 2.324, val_loss: 2.334\n",
      "Step [4/10], train_loss: 2.295, val_loss: 2.303\n",
      "Step [5/10], train_loss: 2.246, val_loss: 2.254\n",
      "Step [6/10], train_loss: 2.156, val_loss: 2.168\n",
      "Step [7/10], train_loss: 2.049, val_loss: 2.076\n",
      "Step [8/10], train_loss: 1.953, val_loss: 1.987\n",
      "Step [9/10], train_loss: 1.881, val_loss: 1.929\n",
      "Step [10/10], train_loss: 1.808, val_loss: 1.858\n"
     ]
    }
   ],
   "source": [
    "optimizer = torch.optim.AdamW(model.parameters(), lr=learning_rate)\n",
    "\n",
    "for i in range(max_iter):\n",
    "\n",
    "    xb, yb = get_batch('train')\n",
    "    logits, loss = model.forward(xb, yb)\n",
    "    optimizer.zero_grad(set_to_none=True)\n",
    "    loss.backward()\n",
    "    optimizer.step()\n",
    "    if (i+1) % eval_iters == 0:\n",
    "        losses = estimate_loss()\n",
    "        print(f\"Step [{(i+1)//eval_iters}/{max_iter//eval_iters}], train_loss: {losses['train']:.3f}, val_loss: {losses['val']:.3f}\")"
   ]
  },
  {
   "cell_type": "code",
   "execution_count": 18,
   "metadata": {},
   "outputs": [
    {
     "name": "stdout",
     "output_type": "stream",
     "text": [
      "model saved\n"
     ]
    }
   ],
   "source": [
    "with open('model-01.pkl', 'wb') as f:\n",
    "    pickle.dump(model, f)\n",
    "print('model saved')"
   ]
  },
  {
   "cell_type": "code",
   "execution_count": 20,
   "metadata": {},
   "outputs": [
    {
     "name": "stdout",
     "output_type": "stream",
     "text": [
      "Hello! Can you see me?” aiod Dorothy:\n",
      "\n",
      "Dovy lome will scaupe halkiv it icth Foricerorog the Lion wender ut\n",
      "onthirldin to t\n"
     ]
    }
   ],
   "source": [
    "prompt = 'Hello! Can you see me?'\n",
    "context = torch.tensor(encode(prompt), dtype=torch.long, device=device)\n",
    "generated_chars = decode(m.generate(context.unsqueeze(0), max_new_token=100)[0].tolist())\n",
    "print(generated_chars)"
   ]
  },
  {
   "cell_type": "code",
   "execution_count": null,
   "metadata": {},
   "outputs": [],
   "source": []
  }
 ],
 "metadata": {
  "kernelspec": {
   "display_name": "llm-gpt:v1",
   "language": "python",
   "name": "cuda"
  },
  "language_info": {
   "codemirror_mode": {
    "name": "ipython",
    "version": 3
   },
   "file_extension": ".py",
   "mimetype": "text/x-python",
   "name": "python",
   "nbconvert_exporter": "python",
   "pygments_lexer": "ipython3",
   "version": "3.9.0"
  }
 },
 "nbformat": 4,
 "nbformat_minor": 4
}
